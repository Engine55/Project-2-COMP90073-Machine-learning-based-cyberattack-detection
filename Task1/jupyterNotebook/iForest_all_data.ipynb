{
 "cells": [
  {
   "cell_type": "code",
   "execution_count": 1,
   "metadata": {},
   "outputs": [],
   "source": [
    "import numpy as np\n",
    "import pandas as pd\n",
    "import matplotlib.pyplot as plt\n",
    "import copy\n",
    "from sklearn.preprocessing import LabelEncoder"
   ]
  },
  {
   "cell_type": "code",
   "execution_count": 2,
   "metadata": {},
   "outputs": [],
   "source": [
    "testdata = pd.read_csv(\"testFeatGen.csv\", encoding=\"utf8\",low_memory = False)\n",
    "validationdata = pd.read_csv(\"validationFeatGen.csv\", encoding=\"utf8\",low_memory = False)\n",
    "traindata = pd.read_csv(\"trainFeatGen.csv\", encoding=\"utf8\",low_memory = False)"
   ]
  },
  {
   "cell_type": "code",
   "execution_count": 3,
   "metadata": {},
   "outputs": [],
   "source": [
    "testdata1 = copy.deepcopy(testdata)\n",
    "validationdata1 = copy.deepcopy(validationdata)\n",
    "traindata1 = copy.deepcopy(traindata)"
   ]
  },
  {
   "cell_type": "code",
   "execution_count": 4,
   "metadata": {},
   "outputs": [],
   "source": [
    "#take out the timestamp column\n",
    "traindata1 = traindata1.drop(['timestamp', 'src_ip', 'src_port', 'direction', 'dst_ip', 'dst_port','duration','number_total_packets','bytes_both_directions','bytes_src_to_dst'], 1)\n",
    "testdata1 = testdata1.drop(['timestamp', 'src_ip', 'src_port', 'direction', 'dst_ip', 'dst_port','duration','number_total_packets','bytes_both_directions','bytes_src_to_dst'], 1)\n",
    "#take out the timestamp and the labels\n",
    "validationdata1 = validationdata1.drop(['timestamp', 'label', 'labelvalues', 'src_ip', 'src_port', 'direction', 'dst_ip', 'dst_port','duration','number_total_packets','bytes_both_directions','bytes_src_to_dst'], 1)"
   ]
  },
  {
   "cell_type": "code",
   "execution_count": 5,
   "metadata": {},
   "outputs": [],
   "source": [
    "framest = [traindata1, testdata1]"
   ]
  },
  {
   "cell_type": "code",
   "execution_count": 6,
   "metadata": {},
   "outputs": [],
   "source": [
    "alldatat = pd.concat(framest)"
   ]
  },
  {
   "cell_type": "code",
   "execution_count": 7,
   "metadata": {},
   "outputs": [],
   "source": [
    "for x in alldatat:\n",
    "    if alldatat[x].dtype == \"object\":\n",
    "        encoder = LabelEncoder()\n",
    "        encoder.fit(list(alldatat[x].values))\n",
    "        alldatat[x] = encoder.transform(list(alldatat[x].values))"
   ]
  },
  {
   "cell_type": "code",
   "execution_count": 8,
   "metadata": {},
   "outputs": [],
   "source": [
    "framesv = [traindata1, validationdata1]"
   ]
  },
  {
   "cell_type": "code",
   "execution_count": 9,
   "metadata": {},
   "outputs": [],
   "source": [
    "alldatav = pd.concat(framesv)"
   ]
  },
  {
   "cell_type": "code",
   "execution_count": 10,
   "metadata": {},
   "outputs": [],
   "source": [
    "for x in alldatav:\n",
    "    if alldatav[x].dtype == \"object\":\n",
    "        encoder = LabelEncoder()\n",
    "        encoder.fit(list(alldatav[x].values))\n",
    "        alldatav[x] = encoder.transform(list(alldatav[x].values))"
   ]
  },
  {
   "cell_type": "code",
   "execution_count": 11,
   "metadata": {},
   "outputs": [],
   "source": [
    "trainsplit_t = alldatat.iloc[:13882035,:]"
   ]
  },
  {
   "cell_type": "code",
   "execution_count": 12,
   "metadata": {},
   "outputs": [],
   "source": [
    "trainsplit_v = alldatav.iloc[:13882035,:]"
   ]
  },
  {
   "cell_type": "code",
   "execution_count": 13,
   "metadata": {},
   "outputs": [],
   "source": [
    "testsplit = alldatat.iloc[13882035:,:]"
   ]
  },
  {
   "cell_type": "code",
   "execution_count": 14,
   "metadata": {},
   "outputs": [],
   "source": [
    "validsplit = alldatav.iloc[13882035:,:]"
   ]
  },
  {
   "cell_type": "code",
   "execution_count": 22,
   "metadata": {},
   "outputs": [],
   "source": [
    "testsplit_sc = testsplit.drop(['protocol', 'state', 'src_type_service', 'dst_type_service', 'flowID'], 1)"
   ]
  },
  {
   "cell_type": "code",
   "execution_count": 23,
   "metadata": {},
   "outputs": [],
   "source": [
    "validsplit_sc = validsplit.drop(['protocol', 'state', 'src_type_service', 'dst_type_service', 'flowID'], 1)"
   ]
  },
  {
   "cell_type": "code",
   "execution_count": 24,
   "metadata": {},
   "outputs": [],
   "source": [
    "trainsplit_t_sc = trainsplit_t.drop(['protocol', 'state', 'src_type_service', 'dst_type_service', 'flowID'], 1)"
   ]
  },
  {
   "cell_type": "code",
   "execution_count": 25,
   "metadata": {},
   "outputs": [],
   "source": [
    "trainsplit_v_sc = trainsplit_v.drop(['protocol', 'state', 'src_type_service', 'dst_type_service', 'flowID'], 1)"
   ]
  },
  {
   "cell_type": "code",
   "execution_count": 26,
   "metadata": {},
   "outputs": [],
   "source": [
    "from sklearn.preprocessing import StandardScaler\n",
    "\n",
    "sc = StandardScaler()\n",
    "testsplit_sc = pd.DataFrame(sc.fit_transform(testsplit_sc),columns = testsplit_sc.columns)\n",
    "validsplit_sc = pd.DataFrame(sc.fit_transform(validsplit_sc),columns = validsplit_sc.columns)\n",
    "trainsplit_t_sc = pd.DataFrame(sc.fit_transform(trainsplit_t_sc),columns = trainsplit_t_sc.columns)\n",
    "trainsplit_v_sc = pd.DataFrame(sc.fit_transform(trainsplit_v_sc),columns = trainsplit_v_sc.columns)"
   ]
  },
  {
   "cell_type": "code",
   "execution_count": 29,
   "metadata": {},
   "outputs": [],
   "source": [
    "testsplit_cat = testsplit.drop(['pps', 'bps_oneway', 'bpp_oneway', 'bps_twoway', 'bpp_twoway'], 1)\n",
    "validsplit_cat = validsplit.drop(['pps', 'bps_oneway', 'bpp_oneway', 'bps_twoway', 'bpp_twoway'], 1)\n",
    "trainsplit_t_cat = trainsplit_t.drop(['pps', 'bps_oneway', 'bpp_oneway', 'bps_twoway', 'bpp_twoway'], 1)\n",
    "trainsplit_v_cat = trainsplit_v.drop(['pps', 'bps_oneway', 'bpp_oneway', 'bps_twoway', 'bpp_twoway'], 1)"
   ]
  },
  {
   "cell_type": "code",
   "execution_count": 30,
   "metadata": {},
   "outputs": [],
   "source": [
    "test_df_iforest = pd.concat([testsplit_sc, testsplit_cat], axis = 1)\n",
    "valid_df_iforest = pd.concat([validsplit_sc, validsplit_cat], axis = 1)\n",
    "train_t_df_iforest = pd.concat([trainsplit_t_sc, trainsplit_t_cat], axis = 1)\n",
    "train_v_df_iforest = pd.concat([trainsplit_v_sc, trainsplit_v_cat], axis = 1)"
   ]
  },
  {
   "cell_type": "code",
   "execution_count": 39,
   "metadata": {},
   "outputs": [],
   "source": [
    "test_df_iforest.to_csv('test_df_iforest.csv', index = False)\n",
    "valid_df_iforest.to_csv('valid_df_iforest.csv', index = False)\n",
    "train_t_df_iforest.to_csv('train_t_df_iforest.csv', index = False)\n",
    "train_v_df_iforest.to_csv('train_v_df_iforest.csv', index = False)"
   ]
  },
  {
   "cell_type": "code",
   "execution_count": null,
   "metadata": {},
   "outputs": [],
   "source": []
  }
 ],
 "metadata": {
  "kernelspec": {
   "display_name": "Python 3",
   "language": "python",
   "name": "python3"
  },
  "language_info": {
   "codemirror_mode": {
    "name": "ipython",
    "version": 3
   },
   "file_extension": ".py",
   "mimetype": "text/x-python",
   "name": "python",
   "nbconvert_exporter": "python",
   "pygments_lexer": "ipython3",
   "version": "3.7.3"
  }
 },
 "nbformat": 4,
 "nbformat_minor": 2
}
