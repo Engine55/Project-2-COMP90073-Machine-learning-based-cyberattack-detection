{
 "cells": [
  {
   "cell_type": "code",
   "execution_count": 1,
   "metadata": {},
   "outputs": [],
   "source": [
    "import numpy as np\n",
    "import pandas as pd\n",
    "import matplotlib.pyplot as plt\n",
    "import copy\n",
    "from sklearn.preprocessing import LabelEncoder"
   ]
  },
  {
   "cell_type": "code",
   "execution_count": 2,
   "metadata": {},
   "outputs": [],
   "source": [
    "training_df = pd.read_csv(\"training_data\", encoding=\"utf8\", names = ['timestamp', 'duration', 'protocol', 'src_ip', 'src_port', 'direction', 'dst_ip', 'dst_port', 'state', 'src_type_service', 'dst_type_service', 'number_total_packets', 'bytes_both_directions', 'bytes_src_to_dst'], dtype = {'timestamp':object, 'duration':float, 'protocol':object, 'src_ip':object, 'src_port':object, 'direction':object, 'dst_ip':object, 'dst_port':object, 'state':object, 'src_type_service':object, 'dst_type_service':object, 'number_total_packets':int, 'bytes_both_directions':int, 'bytes_src_to_dst':int}, low_memory = False)\n",
    "test_df = pd.read_csv(\"test_data\", encoding=\"utf8\", names = ['timestamp', 'duration', 'protocol', 'src_ip', 'src_port', 'direction', 'dst_ip', 'dst_port', 'state', 'src_type_service', 'dst_type_service', 'number_total_packets', 'bytes_both_directions', 'bytes_src_to_dst'], dtype = {'timestamp':object, 'duration':float, 'protocol':object, 'src_ip':object, 'src_port':object, 'direction':object, 'dst_ip':object, 'dst_port':object, 'state':object, 'src_type_service':object, 'dst_type_service':object, 'number_total_packets':int, 'bytes_both_directions':int, 'bytes_src_to_dst':int}, low_memory = False)\n",
    "valid_df = pd.read_csv(\"valid_data_with_labels\", encoding=\"utf8\", names = ['timestamp', 'duration', 'protocol', 'src_ip', 'src_port', 'direction', 'dst_ip', 'dst_port', 'state', 'src_type_service', 'dst_type_service', 'number_total_packets', 'bytes_both_directions', 'bytes_src_to_dst','label'], dtype = {'timestamp':object, 'duration':float, 'protocol':object, 'src_ip':object, 'src_port':object, 'direction':object, 'dst_ip':object, 'dst_port':object, 'state':object, 'src_type_service':object, 'dst_type_service':object, 'number_total_packets':int, 'bytes_both_directions':int, 'bytes_src_to_dst':int, 'label':object}, low_memory = False)"
   ]
  },
  {
   "cell_type": "code",
   "execution_count": 3,
   "metadata": {},
   "outputs": [],
   "source": [
    "traindata = copy.deepcopy(training_df)\n",
    "testdata = copy.deepcopy(test_df)\n",
    "validdata = copy.deepcopy(valid_df)"
   ]
  },
  {
   "cell_type": "markdown",
   "metadata": {},
   "source": [
    "Checking training data"
   ]
  },
  {
   "cell_type": "code",
   "execution_count": 4,
   "metadata": {},
   "outputs": [],
   "source": [
    "traindata['src_port'].fillna('None', inplace = True)\n",
    "traindata['direction'] = traindata['direction'].str.strip()\n",
    "traindata['dst_port'].fillna('None', inplace = True)\n",
    "traindata['state'].fillna('None', inplace = True)\n",
    "traindata['src_type_service'].fillna('None', inplace = True)\n",
    "traindata['dst_type_service'].fillna('None', inplace = True)"
   ]
  },
  {
   "cell_type": "markdown",
   "metadata": {},
   "source": [
    "Checking test data"
   ]
  },
  {
   "cell_type": "code",
   "execution_count": 5,
   "metadata": {},
   "outputs": [],
   "source": [
    "testdata['src_port'].fillna('None', inplace = True)\n",
    "testdata['direction'] = testdata['direction'].str.strip()\n",
    "testdata['dst_port'].fillna('None', inplace = True)\n",
    "testdata['state'].fillna('None', inplace = True)\n",
    "testdata['src_type_service'].fillna('None', inplace = True)\n",
    "testdata['dst_type_service'].fillna('None', inplace = True)"
   ]
  },
  {
   "cell_type": "markdown",
   "metadata": {},
   "source": [
    "Checking valid data"
   ]
  },
  {
   "cell_type": "code",
   "execution_count": 6,
   "metadata": {},
   "outputs": [],
   "source": [
    "validdata['src_port'].fillna('None', inplace = True)\n",
    "validdata['direction'] = validdata['direction'].str.strip()\n",
    "validdata['dst_port'].fillna('None', inplace = True)\n",
    "validdata['state'].fillna('None', inplace = True)\n",
    "validdata['src_type_service'].fillna('None', inplace = True)\n",
    "validdata['dst_type_service'].fillna('None', inplace = True)"
   ]
  },
  {
   "cell_type": "code",
   "execution_count": 7,
   "metadata": {},
   "outputs": [],
   "source": [
    "truelabels = validdata[['label']].copy()\n",
    "truelabels['labelvalues'] = np.where(truelabels['label'].str.contains('Botnet', case = False, na = False), 1, 0)\n",
    "labelvalues = truelabels[['labelvalues']].copy()\n",
    "validationdata = validdata.join(labelvalues)"
   ]
  },
  {
   "cell_type": "code",
   "execution_count": null,
   "metadata": {},
   "outputs": [],
   "source": []
  },
  {
   "cell_type": "code",
   "execution_count": 8,
   "metadata": {},
   "outputs": [],
   "source": [
    "testdata['flowID'] = testdata[['src_ip', 'src_port', 'direction', 'dst_ip', 'dst_port']].agg('/'.join, axis = 1)"
   ]
  },
  {
   "cell_type": "code",
   "execution_count": 9,
   "metadata": {},
   "outputs": [],
   "source": [
    "testdata.loc[:, 'pps'] = testdata.number_total_packets/testdata.duration.replace({0: np.inf})"
   ]
  },
  {
   "cell_type": "code",
   "execution_count": 10,
   "metadata": {},
   "outputs": [],
   "source": [
    "testdata.loc[:, 'bps_oneway'] = testdata.bytes_src_to_dst/testdata.duration.replace({0: np.inf})"
   ]
  },
  {
   "cell_type": "code",
   "execution_count": 11,
   "metadata": {},
   "outputs": [],
   "source": [
    "testdata.loc[:, 'bpp_oneway'] = testdata.bytes_src_to_dst/testdata.number_total_packets.replace({0: np.inf})"
   ]
  },
  {
   "cell_type": "code",
   "execution_count": 12,
   "metadata": {},
   "outputs": [],
   "source": [
    "testdata.loc[:, 'bps_twoway'] = testdata.bytes_both_directions/testdata.duration.replace({0: np.inf})"
   ]
  },
  {
   "cell_type": "code",
   "execution_count": 14,
   "metadata": {},
   "outputs": [],
   "source": [
    "testdata.loc[:, 'bpp_twoway'] = testdata.bytes_both_directions/testdata.number_total_packets.replace({0: np.inf})"
   ]
  },
  {
   "cell_type": "code",
   "execution_count": 31,
   "metadata": {},
   "outputs": [],
   "source": [
    "testdata.to_csv('testFeatGen.csv', index = False)"
   ]
  },
  {
   "cell_type": "code",
   "execution_count": null,
   "metadata": {},
   "outputs": [],
   "source": []
  },
  {
   "cell_type": "code",
   "execution_count": 15,
   "metadata": {},
   "outputs": [],
   "source": [
    "validationdata['flowID'] = validationdata[['src_ip', 'src_port', 'direction', 'dst_ip', 'dst_port']].agg('/'.join, axis = 1)"
   ]
  },
  {
   "cell_type": "code",
   "execution_count": 16,
   "metadata": {},
   "outputs": [],
   "source": [
    "validationdata.loc[:, 'pps'] = validationdata.number_total_packets/validationdata.duration.replace({0: np.inf})"
   ]
  },
  {
   "cell_type": "code",
   "execution_count": 17,
   "metadata": {},
   "outputs": [],
   "source": [
    "validationdata.loc[:, 'bps_oneway'] = validationdata.bytes_src_to_dst/validationdata.duration.replace({0: np.inf})"
   ]
  },
  {
   "cell_type": "code",
   "execution_count": 18,
   "metadata": {},
   "outputs": [],
   "source": [
    "validationdata.loc[:, 'bpp_oneway'] = validationdata.bytes_src_to_dst/validationdata.number_total_packets.replace({0: np.inf})"
   ]
  },
  {
   "cell_type": "code",
   "execution_count": 19,
   "metadata": {},
   "outputs": [],
   "source": [
    "validationdata.loc[:, 'bps_twoway'] = validationdata.bytes_both_directions/validationdata.duration.replace({0: np.inf})"
   ]
  },
  {
   "cell_type": "code",
   "execution_count": 20,
   "metadata": {},
   "outputs": [],
   "source": [
    "validationdata.loc[:, 'bpp_twoway'] = validationdata.bytes_both_directions/validationdata.number_total_packets.replace({0: np.inf})"
   ]
  },
  {
   "cell_type": "code",
   "execution_count": 32,
   "metadata": {},
   "outputs": [],
   "source": [
    "validationdata.to_csv('validationFeatGen.csv', index = False)"
   ]
  },
  {
   "cell_type": "code",
   "execution_count": null,
   "metadata": {},
   "outputs": [],
   "source": []
  },
  {
   "cell_type": "code",
   "execution_count": 15,
   "metadata": {},
   "outputs": [],
   "source": [
    "traindata['flowID'] = traindata[['src_ip', 'src_port', 'direction', 'dst_ip', 'dst_port']].agg('/'.join, axis = 1)"
   ]
  },
  {
   "cell_type": "code",
   "execution_count": 16,
   "metadata": {},
   "outputs": [],
   "source": [
    "traindata.loc[:, 'pps'] = traindata.number_total_packets/traindata.duration.replace({0: np.inf})"
   ]
  },
  {
   "cell_type": "code",
   "execution_count": 17,
   "metadata": {},
   "outputs": [],
   "source": [
    "traindata.loc[:, 'bps_oneway'] = traindata.bytes_src_to_dst/traindata.duration.replace({0: np.inf})"
   ]
  },
  {
   "cell_type": "code",
   "execution_count": 18,
   "metadata": {},
   "outputs": [],
   "source": [
    "traindata.loc[:, 'bpp_oneway'] = traindata.bytes_src_to_dst/traindata.number_total_packets.replace({0: np.inf})"
   ]
  },
  {
   "cell_type": "code",
   "execution_count": 19,
   "metadata": {},
   "outputs": [],
   "source": [
    "traindata.loc[:, 'bps_twoway'] = traindata.bytes_both_directions/traindata.duration.replace({0: np.inf})"
   ]
  },
  {
   "cell_type": "code",
   "execution_count": 20,
   "metadata": {},
   "outputs": [],
   "source": [
    "traindata.loc[:, 'bpp_twoway'] = traindata.bytes_both_directions/traindata.number_total_packets.replace({0: np.inf})"
   ]
  },
  {
   "cell_type": "code",
   "execution_count": 32,
   "metadata": {},
   "outputs": [],
   "source": [
    "traindata.to_csv('trainFeatGen.csv', index = False)"
   ]
  }
 ],
 "metadata": {
  "kernelspec": {
   "display_name": "Python 3",
   "language": "python",
   "name": "python3"
  },
  "language_info": {
   "codemirror_mode": {
    "name": "ipython",
    "version": 3
   },
   "file_extension": ".py",
   "mimetype": "text/x-python",
   "name": "python",
   "nbconvert_exporter": "python",
   "pygments_lexer": "ipython3",
   "version": "3.7.3"
  }
 },
 "nbformat": 4,
 "nbformat_minor": 2
}
