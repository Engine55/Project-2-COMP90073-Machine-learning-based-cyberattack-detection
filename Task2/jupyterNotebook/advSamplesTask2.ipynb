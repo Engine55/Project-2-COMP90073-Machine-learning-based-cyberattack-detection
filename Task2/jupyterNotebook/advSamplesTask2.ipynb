{
 "cells": [
  {
   "cell_type": "code",
   "execution_count": 216,
   "metadata": {},
   "outputs": [],
   "source": [
    "import numpy as np\n",
    "import pandas as pd\n",
    "import matplotlib.pyplot as plt\n",
    "import copy\n",
    "from sklearn.preprocessing import LabelEncoder"
   ]
  },
  {
   "cell_type": "markdown",
   "metadata": {},
   "source": [
    "Import the data"
   ]
  },
  {
   "cell_type": "code",
   "execution_count": 217,
   "metadata": {},
   "outputs": [],
   "source": [
    "#load datasets\n",
    "training_df = pd.read_csv(\"training_data_with_labels.csv\", encoding=\"utf8\", names = ['timestamp', 'duration', 'protocol', 'src_ip', 'src_port', 'direction', 'dst_ip', 'dst_port', 'state', 'src_type_service', 'dst_type_service', 'number_total_packets', 'bytes_both_directions', 'bytes_src_to_dst','label'], dtype = {'timestamp':object, 'duration':float, 'protocol':object, 'src_ip':object, 'src_port':object, 'direction':object, 'dst_ip':object, 'dst_port':object, 'state':object, 'src_type_service':object, 'dst_type_service':object, 'number_total_packets':int, 'bytes_both_directions':int, 'bytes_src_to_dst':int}, low_memory = False)\n",
    "test_df = pd.read_csv(\"test_data_with_labels.csv\", encoding=\"utf8\", names = ['timestamp', 'duration', 'protocol', 'src_ip', 'src_port', 'direction', 'dst_ip', 'dst_port', 'state', 'src_type_service', 'dst_type_service', 'number_total_packets', 'bytes_both_directions', 'bytes_src_to_dst','label'], dtype = {'timestamp':object, 'duration':float, 'protocol':object, 'src_ip':object, 'src_port':object, 'direction':object, 'dst_ip':object, 'dst_port':object, 'state':object, 'src_type_service':object, 'dst_type_service':object, 'number_total_packets':int, 'bytes_both_directions':int, 'bytes_src_to_dst':int}, low_memory = False)\n",
    "valid_df = pd.read_csv(\"valid_data_with_labels.csv\", encoding=\"utf8\", names = ['timestamp', 'duration', 'protocol', 'src_ip', 'src_port', 'direction', 'dst_ip', 'dst_port', 'state', 'src_type_service', 'dst_type_service', 'number_total_packets', 'bytes_both_directions', 'bytes_src_to_dst','label'], dtype = {'timestamp':object, 'duration':float, 'protocol':object, 'src_ip':object, 'src_port':object, 'direction':object, 'dst_ip':object, 'dst_port':object, 'state':object, 'src_type_service':object, 'dst_type_service':object, 'number_total_packets':int, 'bytes_both_directions':int, 'bytes_src_to_dst':int, 'label':object}, low_memory = False)"
   ]
  },
  {
   "cell_type": "code",
   "execution_count": 218,
   "metadata": {},
   "outputs": [],
   "source": [
    "#add ID\n",
    "training_df['streamID'] = training_df.index + 1\n",
    "test_df['streamID'] = test_df.index + 1\n",
    "valid_df['streamID'] = valid_df.index + 1"
   ]
  },
  {
   "cell_type": "code",
   "execution_count": 219,
   "metadata": {
    "scrolled": true
   },
   "outputs": [],
   "source": [
    "traindata = copy.deepcopy(training_df)\n",
    "testdata = copy.deepcopy(test_df)\n",
    "validdata = copy.deepcopy(valid_df)"
   ]
  },
  {
   "cell_type": "markdown",
   "metadata": {},
   "source": [
    "Fix data"
   ]
  },
  {
   "cell_type": "code",
   "execution_count": 220,
   "metadata": {},
   "outputs": [],
   "source": [
    "#fix data\n",
    "traindata['src_port'].fillna('None', inplace = True)\n",
    "traindata['direction'] = traindata['direction'].str.strip()\n",
    "traindata['dst_port'].fillna('None', inplace = True)\n",
    "traindata['state'].fillna('None', inplace = True)\n",
    "traindata['src_type_service'].fillna('None', inplace = True)\n",
    "traindata['dst_type_service'].fillna('None', inplace = True)"
   ]
  },
  {
   "cell_type": "code",
   "execution_count": 221,
   "metadata": {},
   "outputs": [],
   "source": [
    "#fix data\n",
    "testdata['src_port'].fillna('None', inplace = True)\n",
    "testdata['direction'] = testdata['direction'].str.strip()\n",
    "testdata['dst_port'].fillna('None', inplace = True)\n",
    "testdata['state'].fillna('None', inplace = True)\n",
    "testdata['src_type_service'].fillna('None', inplace = True)\n",
    "testdata['dst_type_service'].fillna('None', inplace = True)"
   ]
  },
  {
   "cell_type": "code",
   "execution_count": 222,
   "metadata": {},
   "outputs": [],
   "source": [
    "#fix data\n",
    "validdata['src_port'].fillna('None', inplace = True)\n",
    "validdata['direction'] = validdata['direction'].str.strip()\n",
    "validdata['dst_port'].fillna('None', inplace = True)\n",
    "validdata['state'].fillna('None', inplace = True)\n",
    "validdata['src_type_service'].fillna('None', inplace = True)\n",
    "validdata['dst_type_service'].fillna('None', inplace = True)"
   ]
  },
  {
   "cell_type": "markdown",
   "metadata": {},
   "source": [
    "Add labels to botnet and normal classes, Botnet = 1, Normal = 0"
   ]
  },
  {
   "cell_type": "code",
   "execution_count": 223,
   "metadata": {
    "scrolled": true
   },
   "outputs": [],
   "source": [
    "#add labels - botnet is 1\n",
    "truelabels = traindata[['label']].copy()\n",
    "truelabels['labelvalues'] = np.where(truelabels['label'].str.contains('Botnet', case = False, na = False), 1, 0)\n",
    "labelvalues = truelabels[['labelvalues']].copy()\n",
    "traindata_pr = traindata.join(labelvalues)"
   ]
  },
  {
   "cell_type": "code",
   "execution_count": 224,
   "metadata": {},
   "outputs": [],
   "source": [
    "#add labels - botnet is 1\n",
    "truelabels = testdata[['label']].copy()\n",
    "truelabels['labelvalues'] = np.where(truelabels['label'].str.contains('Botnet', case = False, na = False), 1, 0)\n",
    "labelvalues = truelabels[['labelvalues']].copy()\n",
    "testdata_pr = testdata.join(labelvalues)"
   ]
  },
  {
   "cell_type": "code",
   "execution_count": 225,
   "metadata": {
    "scrolled": true
   },
   "outputs": [],
   "source": [
    "#add labels - botnet is 1\n",
    "truelabels = validdata[['label']].copy()\n",
    "truelabels['labelvalues'] = np.where(truelabels['label'].str.contains('Botnet', case = False, na = False), 1, 0)\n",
    "labelvalues = truelabels[['labelvalues']].copy()\n",
    "validdata_pr = validdata.join(labelvalues)"
   ]
  },
  {
   "cell_type": "markdown",
   "metadata": {},
   "source": [
    "Calculate features from the report"
   ]
  },
  {
   "cell_type": "code",
   "execution_count": 226,
   "metadata": {
    "scrolled": true
   },
   "outputs": [],
   "source": [
    "#calculate report features\n",
    "testdata_pr.loc[:, 'pps'] = testdata_pr.number_total_packets/testdata_pr.duration.replace({0: np.inf})\n",
    "testdata_pr.loc[:, 'bps_oneway'] = testdata_pr.bytes_src_to_dst/testdata_pr.duration.replace({0: np.inf})\n",
    "testdata_pr.loc[:, 'bpp_oneway'] = testdata_pr.bytes_src_to_dst/testdata_pr.number_total_packets.replace({0: np.inf})\n",
    "testdata_pr.loc[:, 'bps_twoway'] = testdata_pr.bytes_both_directions/testdata_pr.duration.replace({0: np.inf})\n",
    "testdata_pr.loc[:, 'bpp_twoway'] = testdata_pr.bytes_both_directions/testdata_pr.number_total_packets.replace({0: np.inf})"
   ]
  },
  {
   "cell_type": "code",
   "execution_count": 227,
   "metadata": {
    "scrolled": true
   },
   "outputs": [],
   "source": [
    "#calculate report features\n",
    "validdata_pr.loc[:, 'pps'] = validdata_pr.number_total_packets/validdata_pr.duration.replace({0: np.inf})\n",
    "validdata_pr.loc[:, 'bps_oneway'] = validdata_pr.bytes_src_to_dst/validdata_pr.duration.replace({0: np.inf})\n",
    "validdata_pr.loc[:, 'bpp_oneway'] = validdata_pr.bytes_src_to_dst/validdata_pr.number_total_packets.replace({0: np.inf})\n",
    "validdata_pr.loc[:, 'bps_twoway'] = validdata_pr.bytes_both_directions/validdata_pr.duration.replace({0: np.inf})\n",
    "validdata_pr.loc[:, 'bpp_twoway'] = validdata_pr.bytes_both_directions/validdata_pr.number_total_packets.replace({0: np.inf})"
   ]
  },
  {
   "cell_type": "code",
   "execution_count": 228,
   "metadata": {},
   "outputs": [],
   "source": [
    "#calculate report features\n",
    "traindata_pr.loc[:, 'pps'] = traindata_pr.number_total_packets/traindata_pr.duration.replace({0: np.inf})\n",
    "traindata_pr.loc[:, 'bps_oneway'] = traindata_pr.bytes_src_to_dst/traindata_pr.duration.replace({0: np.inf})\n",
    "traindata_pr.loc[:, 'bpp_oneway'] = traindata_pr.bytes_src_to_dst/traindata_pr.number_total_packets.replace({0: np.inf})\n",
    "traindata_pr.loc[:, 'bps_twoway'] = traindata_pr.bytes_both_directions/traindata_pr.duration.replace({0: np.inf})\n",
    "traindata_pr.loc[:, 'bpp_twoway'] = traindata_pr.bytes_both_directions/traindata_pr.number_total_packets.replace({0: np.inf})"
   ]
  },
  {
   "cell_type": "code",
   "execution_count": 229,
   "metadata": {
    "scrolled": true
   },
   "outputs": [],
   "source": [
    "#merge columns\n",
    "traindata_num = traindata_pr[['src_ip','duration','pps','bps_oneway','bpp_oneway','bps_twoway','bpp_twoway','labelvalues']]\n",
    "testdata_num = testdata_pr[['src_ip','duration','pps','bps_oneway','bpp_oneway','bps_twoway','bpp_twoway','labelvalues']]\n",
    "validdata_num = validdata_pr[['src_ip','duration','pps','bps_oneway','bpp_oneway','bps_twoway','bpp_twoway','labelvalues']]"
   ]
  },
  {
   "cell_type": "code",
   "execution_count": 230,
   "metadata": {},
   "outputs": [],
   "source": [
    "traindata_num_noip = traindata_num.drop(['src_ip'],1)\n",
    "testdata_num_noip = testdata_num.drop(['src_ip'],1)\n",
    "validdata_num_noip = validdata_num.drop(['src_ip'],1)"
   ]
  },
  {
   "cell_type": "markdown",
   "metadata": {},
   "source": [
    "Train and Test the model with all the numerical features"
   ]
  },
  {
   "cell_type": "code",
   "execution_count": 231,
   "metadata": {},
   "outputs": [],
   "source": [
    "#try the model to check accuracy\n",
    "from sklearn.linear_model import LogisticRegression\n",
    "from sklearn import metrics\n",
    "from sklearn.preprocessing import StandardScaler\n",
    "\n",
    "ytrain = traindata_num_noip.iloc[:, 6].values\n",
    "Xtrain = traindata_num_noip.iloc[:, 0:6]\n",
    "\n",
    "ytest = testdata_num_noip.iloc[:, 6].values\n",
    "Xtest = testdata_num_noip.iloc[:, 0:6]"
   ]
  },
  {
   "cell_type": "code",
   "execution_count": 232,
   "metadata": {},
   "outputs": [],
   "source": [
    "sc = StandardScaler()\n",
    "sc.fit(Xtrain)\n",
    "Xtrain = pd.DataFrame(sc.transform(Xtrain), columns = Xtrain.columns, index = Xtrain.index)\n",
    "Xtest = pd.DataFrame(sc.transform(Xtest), columns = Xtest.columns, index = Xtest.index)"
   ]
  },
  {
   "cell_type": "code",
   "execution_count": 233,
   "metadata": {},
   "outputs": [],
   "source": [
    "c = LogisticRegression(random_state = 0, solver = 'newton-cg',max_iter = 100000).fit(Xtrain, ytrain)\n",
    "ypred = c.predict(Xtest)"
   ]
  },
  {
   "cell_type": "markdown",
   "metadata": {},
   "source": [
    "First attempt -> 77% accuracy"
   ]
  },
  {
   "cell_type": "code",
   "execution_count": 234,
   "metadata": {},
   "outputs": [
    {
     "name": "stdout",
     "output_type": "stream",
     "text": [
      "              precision    recall  f1-score   support\n",
      "\n",
      "           0     0.2428    0.5250    0.3321     60641\n",
      "           1     0.9350    0.8067    0.8662    513742\n",
      "\n",
      "    accuracy                         0.7770    574383\n",
      "   macro avg     0.5889    0.6659    0.5991    574383\n",
      "weighted avg     0.8619    0.7770    0.8098    574383\n",
      "\n"
     ]
    }
   ],
   "source": [
    "print(metrics.classification_report(ytest, ypred, digits=4))"
   ]
  },
  {
   "cell_type": "markdown",
   "metadata": {},
   "source": [
    "Perform Feature selection with ANOVA test"
   ]
  },
  {
   "cell_type": "code",
   "execution_count": 235,
   "metadata": {},
   "outputs": [
    {
     "name": "stdout",
     "output_type": "stream",
     "text": [
      "        Specs         Score\n",
      "4  bps_twoway  92153.664519\n",
      "1         pps  60813.221138\n",
      "2  bps_oneway  53772.078221\n",
      "0    duration  37207.533752\n",
      "5  bpp_twoway  36316.858475\n",
      "3  bpp_oneway  14185.250969\n"
     ]
    }
   ],
   "source": [
    "#MI\n",
    "import pandas as pd\n",
    "import numpy as np\n",
    "from sklearn.feature_selection import SelectKBest\n",
    "from sklearn.feature_selection import f_classif\n",
    "\n",
    "#apply SelectKBest class to extract best features\n",
    "bestfeatures = SelectKBest(score_func = f_classif, k = 6)\n",
    "fit = bestfeatures.fit(Xtrain, ytrain)\n",
    "dfscores = pd.DataFrame(fit.scores_)\n",
    "dfcolumns = pd.DataFrame(Xtrain.columns)\n",
    "\n",
    "#concat two dataframes for better visualization \n",
    "featureScores = pd.concat([dfcolumns,dfscores],axis=1)\n",
    "featureScores.columns = ['Specs', 'Score']  #naming the dataframe columns\n",
    "print(featureScores.nlargest(6, 'Score'))  #print 20 best features"
   ]
  },
  {
   "cell_type": "code",
   "execution_count": 236,
   "metadata": {},
   "outputs": [],
   "source": [
    "bestFeatures = featureScores.nlargest(3,'Score')\n",
    "Xtrain1 = Xtrain[bestFeatures['Specs']]\n",
    "Xtest1 = Xtest[bestFeatures['Specs']]"
   ]
  },
  {
   "cell_type": "markdown",
   "metadata": {},
   "source": [
    "Train and Test with the best 3 features from our dataset"
   ]
  },
  {
   "cell_type": "code",
   "execution_count": 237,
   "metadata": {},
   "outputs": [],
   "source": [
    "c1 = LogisticRegression(random_state = 0, solver = 'newton-cg',max_iter = 100000).fit(Xtrain1, ytrain)\n",
    "ypred = c1.predict(Xtest1)"
   ]
  },
  {
   "cell_type": "markdown",
   "metadata": {},
   "source": [
    "Second attempt -> 79.84% accuracy"
   ]
  },
  {
   "cell_type": "code",
   "execution_count": 238,
   "metadata": {},
   "outputs": [
    {
     "name": "stdout",
     "output_type": "stream",
     "text": [
      "              precision    recall  f1-score   support\n",
      "\n",
      "           0     0.1969    0.2955    0.2363     60641\n",
      "           1     0.9116    0.8578    0.8839    513742\n",
      "\n",
      "    accuracy                         0.7984    574383\n",
      "   macro avg     0.5543    0.5766    0.5601    574383\n",
      "weighted avg     0.8362    0.7984    0.8155    574383\n",
      "\n"
     ]
    }
   ],
   "source": [
    "print(metrics.classification_report(ytest, ypred, digits=4))"
   ]
  },
  {
   "cell_type": "markdown",
   "metadata": {},
   "source": [
    "Sort values to select IP"
   ]
  },
  {
   "cell_type": "code",
   "execution_count": 239,
   "metadata": {},
   "outputs": [],
   "source": [
    "ypred_df = pd.DataFrame(data=ypred,columns=['predictedlabel'])\n",
    "ytest_df = pd.DataFrame(data=ytest,columns=['truelabel'])\n",
    "srcip_df = testdata[['src_ip','streamID']]\n",
    "Xcomparison = pd.concat([Xtest1,srcip_df,ypred_df,ytest_df], axis=1)\n",
    "Xcomparison_sort = Xcomparison.sort_values(by=['src_ip'])"
   ]
  },
  {
   "cell_type": "code",
   "execution_count": 240,
   "metadata": {},
   "outputs": [
    {
     "data": {
      "text/plain": [
       "1    483385\n",
       "0     90998\n",
       "Name: predictedlabel, dtype: int64"
      ]
     },
     "execution_count": 240,
     "metadata": {},
     "output_type": "execute_result"
    }
   ],
   "source": [
    "Xcomparison_sort['predictedlabel'].value_counts()"
   ]
  },
  {
   "cell_type": "code",
   "execution_count": 241,
   "metadata": {},
   "outputs": [
    {
     "data": {
      "text/plain": [
       "1    513742\n",
       "0     60641\n",
       "Name: truelabel, dtype: int64"
      ]
     },
     "execution_count": 241,
     "metadata": {},
     "output_type": "execute_result"
    }
   ],
   "source": [
    "Xcomparison_sort['truelabel'].value_counts()"
   ]
  },
  {
   "cell_type": "markdown",
   "metadata": {},
   "source": [
    "Select IP that contains over 85% as attack class -> 147.101.94.182"
   ]
  },
  {
   "cell_type": "markdown",
   "metadata": {},
   "source": [
    "In the final lines of code we confirm this IP to be an attack by using group by"
   ]
  },
  {
   "cell_type": "code",
   "execution_count": 242,
   "metadata": {},
   "outputs": [],
   "source": [
    "XselectedIP = Xcomparison.loc[Xcomparison['src_ip'] == '147.101.94.182']"
   ]
  },
  {
   "cell_type": "code",
   "execution_count": 243,
   "metadata": {},
   "outputs": [
    {
     "data": {
      "text/plain": [
       "1    17462\n",
       "0     2843\n",
       "Name: predictedlabel, dtype: int64"
      ]
     },
     "execution_count": 243,
     "metadata": {},
     "output_type": "execute_result"
    }
   ],
   "source": [
    "XselectedIP['predictedlabel'].value_counts()"
   ]
  },
  {
   "cell_type": "code",
   "execution_count": 244,
   "metadata": {},
   "outputs": [
    {
     "data": {
      "text/plain": [
       "1    20305\n",
       "Name: truelabel, dtype: int64"
      ]
     },
     "execution_count": 244,
     "metadata": {},
     "output_type": "execute_result"
    }
   ],
   "source": [
    "XselectedIP['truelabel'].value_counts()"
   ]
  },
  {
   "cell_type": "markdown",
   "metadata": {},
   "source": [
    "Start the FGSM method"
   ]
  },
  {
   "cell_type": "markdown",
   "metadata": {},
   "source": [
    "Copy test set with 3 features to keep track, also the values"
   ]
  },
  {
   "cell_type": "code",
   "execution_count": 245,
   "metadata": {},
   "outputs": [],
   "source": [
    "selectedrow1 = Xtest1\n",
    "labelvalue1 = testdata_num[['labelvalues']]"
   ]
  },
  {
   "cell_type": "markdown",
   "metadata": {},
   "source": [
    "Get the probability estimates from Attack class from column with index = 1 and subtract true values to calculate the gradient of cost with respect to test data"
   ]
  },
  {
   "cell_type": "code",
   "execution_count": 246,
   "metadata": {},
   "outputs": [],
   "source": [
    "delta1 = c1.predict_proba(selectedrow1.values).T[[1]].T - labelvalue1.values"
   ]
  },
  {
   "cell_type": "markdown",
   "metadata": {},
   "source": [
    "Get the LR model weights"
   ]
  },
  {
   "cell_type": "code",
   "execution_count": 247,
   "metadata": {},
   "outputs": [],
   "source": [
    "weight1 = c1.coef_"
   ]
  },
  {
   "cell_type": "markdown",
   "metadata": {},
   "source": [
    "Get the direction matrix"
   ]
  },
  {
   "cell_type": "code",
   "execution_count": 248,
   "metadata": {},
   "outputs": [],
   "source": [
    "direction1 = np.sign(np.matmul(delta1,weight1))\n",
    "direction1_df = pd.DataFrame(data = direction1,columns=['d1','d2','d3'])\n",
    "direction1_df1 = pd.concat([testdata['streamID'],direction1_df], axis=1)\n",
    "direction1_df1_sel = direction1_df1[direction1_df1.streamID.isin(XselectedIP.streamID)]"
   ]
  },
  {
   "cell_type": "markdown",
   "metadata": {},
   "source": [
    "Use auxiliary numpy arrays to calculate FGSM"
   ]
  },
  {
   "cell_type": "code",
   "execution_count": 249,
   "metadata": {},
   "outputs": [],
   "source": [
    "XselectedIP_aux = XselectedIP.drop(['src_ip','streamID','predictedlabel','truelabel'],1)\n",
    "direction1_df1_sel_aux = direction1_df1_sel.drop(['streamID'],1)\n",
    "XselectedIP_aux = XselectedIP_aux.to_numpy()\n",
    "direction1_df1_sel_aux = direction1_df1_sel_aux.to_numpy()"
   ]
  },
  {
   "cell_type": "markdown",
   "metadata": {},
   "source": [
    "Calculate Adversarial Samples with FGSM step (Epsilon = 0.8)"
   ]
  },
  {
   "cell_type": "code",
   "execution_count": 250,
   "metadata": {},
   "outputs": [],
   "source": [
    "Xadv1 = XselectedIP_aux + 0.8*direction1_df1_sel_aux"
   ]
  },
  {
   "cell_type": "markdown",
   "metadata": {},
   "source": [
    "Set streamID as index"
   ]
  },
  {
   "cell_type": "code",
   "execution_count": 251,
   "metadata": {},
   "outputs": [],
   "source": [
    "Xadv1_df = pd.DataFrame(data=Xadv1,columns=['bps_twoway','pps','bps_oneway'])\n",
    "XselectedIP_res = XselectedIP.reset_index(drop=True)\n",
    "Xadv1_df_res = Xadv1_df.reset_index(drop=True)\n",
    "Xadv1_df_1_aux = XselectedIP_res.drop(['bps_twoway','pps','bps_oneway'],1)\n",
    "Xadv1_df_1 = pd.concat([Xadv1_df_1_aux,Xadv1_df_res],axis=1)\n",
    "Xadv1_df_1 = Xadv1_df_1.set_index('streamID')\n",
    "Xadv1_df_2 = Xadv1_df_1.drop(['src_ip','predictedlabel','truelabel'],1)"
   ]
  },
  {
   "cell_type": "markdown",
   "metadata": {},
   "source": [
    "(*****) Get first and final values of Adversarial Samples to keep track and assess at the end"
   ]
  },
  {
   "cell_type": "code",
   "execution_count": 252,
   "metadata": {},
   "outputs": [
    {
     "data": {
      "text/plain": [
       "bps_twoway   -0.416293\n",
       "pps           1.193303\n",
       "bps_oneway    1.049458\n",
       "Name: 31, dtype: float64"
      ]
     },
     "execution_count": 252,
     "metadata": {},
     "output_type": "execute_result"
    }
   ],
   "source": [
    "Xadv1_df_2.iloc[0]"
   ]
  },
  {
   "cell_type": "code",
   "execution_count": 253,
   "metadata": {},
   "outputs": [
    {
     "data": {
      "text/plain": [
       "bps_twoway   -1.250522\n",
       "pps           0.481799\n",
       "bps_oneway    0.537201\n",
       "Name: 479629, dtype: float64"
      ]
     },
     "execution_count": 253,
     "metadata": {},
     "output_type": "execute_result"
    }
   ],
   "source": [
    "Xadv1_df_2.iloc[20304]"
   ]
  },
  {
   "cell_type": "markdown",
   "metadata": {},
   "source": [
    "Put streamID as index in the test set to update the attacked features' values"
   ]
  },
  {
   "cell_type": "code",
   "execution_count": 254,
   "metadata": {},
   "outputs": [],
   "source": [
    "XtestNew = pd.concat([Xtest1,testdata['streamID']],axis=1)\n",
    "XtestNew = XtestNew.set_index('streamID')"
   ]
  },
  {
   "cell_type": "markdown",
   "metadata": {},
   "source": [
    "(*****) These are the first and final values of the selected IP from the original test set according to the streamID"
   ]
  },
  {
   "cell_type": "code",
   "execution_count": 255,
   "metadata": {
    "scrolled": false
   },
   "outputs": [
    {
     "data": {
      "text/plain": [
       "bps_twoway    0.383707\n",
       "pps           0.393303\n",
       "bps_oneway    0.249458\n",
       "Name: 31, dtype: float64"
      ]
     },
     "execution_count": 255,
     "metadata": {},
     "output_type": "execute_result"
    }
   ],
   "source": [
    "XtestNew.iloc[30]"
   ]
  },
  {
   "cell_type": "code",
   "execution_count": 256,
   "metadata": {},
   "outputs": [
    {
     "data": {
      "text/plain": [
       "bps_twoway   -0.450522\n",
       "pps          -0.318201\n",
       "bps_oneway   -0.262799\n",
       "Name: 479629, dtype: float64"
      ]
     },
     "execution_count": 256,
     "metadata": {},
     "output_type": "execute_result"
    }
   ],
   "source": [
    "XtestNew.iloc[479628]"
   ]
  },
  {
   "cell_type": "markdown",
   "metadata": {},
   "source": [
    "Hold the dataframes for comparison and apply update"
   ]
  },
  {
   "cell_type": "code",
   "execution_count": 257,
   "metadata": {},
   "outputs": [],
   "source": [
    "XtestNew1 = XtestNew.copy()\n",
    "XtestNew1.update(Xadv1_df_2)"
   ]
  },
  {
   "cell_type": "code",
   "execution_count": 258,
   "metadata": {},
   "outputs": [
    {
     "data": {
      "text/plain": [
       "bps_twoway   -0.416293\n",
       "pps           1.193303\n",
       "bps_oneway    1.049458\n",
       "Name: 31, dtype: float64"
      ]
     },
     "execution_count": 258,
     "metadata": {},
     "output_type": "execute_result"
    }
   ],
   "source": [
    "XtestNew1.iloc[30]"
   ]
  },
  {
   "cell_type": "code",
   "execution_count": 259,
   "metadata": {},
   "outputs": [
    {
     "data": {
      "text/plain": [
       "bps_twoway   -1.250522\n",
       "pps           0.481799\n",
       "bps_oneway    0.537201\n",
       "Name: 479629, dtype: float64"
      ]
     },
     "execution_count": 259,
     "metadata": {},
     "output_type": "execute_result"
    }
   ],
   "source": [
    "XtestNew1.iloc[479628]"
   ]
  },
  {
   "cell_type": "markdown",
   "metadata": {},
   "source": [
    "Values are correctly updated, OK to proceed"
   ]
  },
  {
   "cell_type": "markdown",
   "metadata": {},
   "source": [
    "Now we test the model again with the adversarial samples set for IP = 147.101.94.182"
   ]
  },
  {
   "cell_type": "code",
   "execution_count": 260,
   "metadata": {},
   "outputs": [],
   "source": [
    "ypred1 = c1.predict(XtestNew1)"
   ]
  },
  {
   "cell_type": "markdown",
   "metadata": {},
   "source": [
    "Third attemot: Accuracy goes down from 79.84% to 76.80%"
   ]
  },
  {
   "cell_type": "code",
   "execution_count": 261,
   "metadata": {},
   "outputs": [
    {
     "name": "stdout",
     "output_type": "stream",
     "text": [
      "              precision    recall  f1-score   support\n",
      "\n",
      "           0     0.1652    0.2955    0.2119     60641\n",
      "           1     0.9083    0.8238    0.8640    513742\n",
      "\n",
      "    accuracy                         0.7680    574383\n",
      "   macro avg     0.5368    0.5596    0.5380    574383\n",
      "weighted avg     0.8299    0.7680    0.7951    574383\n",
      "\n"
     ]
    }
   ],
   "source": [
    "print(metrics.classification_report(ytest, ypred1, digits=4))"
   ]
  },
  {
   "cell_type": "markdown",
   "metadata": {},
   "source": [
    "Now we check that labels of IP = 147.101.94.182 are all classified as Normal"
   ]
  },
  {
   "cell_type": "code",
   "execution_count": 262,
   "metadata": {},
   "outputs": [],
   "source": [
    "ypred_df = pd.DataFrame(data=ypred1,columns=['predictedlabel'])\n",
    "ytest_df = pd.DataFrame(data=ytest,columns=['truelabel'])\n",
    "srcip_df = testdata[['src_ip','streamID']]\n",
    "Xcomparison = pd.concat([XtestNew1,srcip_df,ypred_df,ytest_df], axis=1)\n",
    "Xcomparison_sort = Xcomparison.sort_values(by=['src_ip'])\n",
    "XselectedIP = Xcomparison.loc[Xcomparison['src_ip'] == '147.101.94.182']"
   ]
  },
  {
   "cell_type": "markdown",
   "metadata": {},
   "source": [
    "Now the targeted IP classified all as Normal as expected by the FGSM model, in the first attempt we predicted 17462 Attack labels, now we have all the 20305 samples predicted as Normal"
   ]
  },
  {
   "cell_type": "code",
   "execution_count": 263,
   "metadata": {},
   "outputs": [
    {
     "data": {
      "text/plain": [
       "0.0    20305\n",
       "Name: predictedlabel, dtype: int64"
      ]
     },
     "execution_count": 263,
     "metadata": {},
     "output_type": "execute_result"
    }
   ],
   "source": [
    "XselectedIP['predictedlabel'].value_counts()"
   ]
  },
  {
   "cell_type": "code",
   "execution_count": 264,
   "metadata": {},
   "outputs": [
    {
     "data": {
      "text/plain": [
       "1.0    20305\n",
       "Name: truelabel, dtype: int64"
      ]
     },
     "execution_count": 264,
     "metadata": {},
     "output_type": "execute_result"
    }
   ],
   "source": [
    "XselectedIP['truelabel'].value_counts()"
   ]
  },
  {
   "cell_type": "markdown",
   "metadata": {},
   "source": [
    "Export"
   ]
  },
  {
   "cell_type": "code",
   "execution_count": 265,
   "metadata": {},
   "outputs": [],
   "source": [
    "XselectedIP = XselectedIP.rename(columns={'bps_twoway':'bps_twoway_advSamp','pps':'pps_advSamp','bps_oneway':'bps_oneway_advSamp'})"
   ]
  },
  {
   "cell_type": "code",
   "execution_count": 266,
   "metadata": {},
   "outputs": [],
   "source": [
    "XselectedIPfeats = testdata.loc[testdata['src_ip'] == '147.101.94.182']"
   ]
  },
  {
   "cell_type": "code",
   "execution_count": 267,
   "metadata": {},
   "outputs": [],
   "source": [
    "Xtest_export = pd.concat([XselectedIP['bps_twoway_advSamp'],XselectedIP['pps_advSamp'],XselectedIP['bps_oneway_advSamp'],XselectedIPfeats],axis=1)"
   ]
  },
  {
   "cell_type": "code",
   "execution_count": 268,
   "metadata": {
    "scrolled": true
   },
   "outputs": [],
   "source": [
    "Xaux = Xtest1.copy()"
   ]
  },
  {
   "cell_type": "code",
   "execution_count": 269,
   "metadata": {},
   "outputs": [],
   "source": [
    "Xaux = Xaux.rename(columns={'bps_twoway':'bps_twoway_origScaled','pps':'pps_origScaled','bps_oneway':'bps_oneway_origScaled'})"
   ]
  },
  {
   "cell_type": "code",
   "execution_count": 270,
   "metadata": {},
   "outputs": [],
   "source": [
    "Xaux1 = pd.concat([Xaux,testdata['src_ip']],axis=1)"
   ]
  },
  {
   "cell_type": "code",
   "execution_count": 271,
   "metadata": {},
   "outputs": [],
   "source": [
    "Xaux2 = Xaux1.loc[Xaux1['src_ip'] == '147.101.94.182']"
   ]
  },
  {
   "cell_type": "code",
   "execution_count": 272,
   "metadata": {},
   "outputs": [],
   "source": [
    "Xaux3 = pd.concat([Xaux2['bps_twoway_origScaled'],Xaux2['pps_origScaled'],Xaux2['bps_oneway_origScaled'],Xtest_export],axis=1)"
   ]
  },
  {
   "cell_type": "code",
   "execution_count": 273,
   "metadata": {
    "scrolled": true
   },
   "outputs": [],
   "source": [
    "Xaux3.to_csv('task2_export.csv',index=False)"
   ]
  },
  {
   "cell_type": "markdown",
   "metadata": {},
   "source": [
    "Generate Identified Botnet IP addresses"
   ]
  },
  {
   "cell_type": "code",
   "execution_count": 274,
   "metadata": {},
   "outputs": [],
   "source": [
    "traindata_num_filt = traindata_num.drop(['duration','bps_oneway','bpp_oneway'],1)\n",
    "testdata_num_filt = testdata_num.drop(['duration','bps_oneway','bpp_oneway'],1)"
   ]
  },
  {
   "cell_type": "code",
   "execution_count": 275,
   "metadata": {},
   "outputs": [
    {
     "data": {
      "text/plain": [
       "0.0    70\n",
       "1.0    48\n",
       "Name: labelvalues, dtype: int64"
      ]
     },
     "execution_count": 275,
     "metadata": {},
     "output_type": "execute_result"
    }
   ],
   "source": [
    "#group by src_ip\n",
    "traingroup = traindata_num_filt.groupby(['src_ip']).mean()\n",
    "traingroup['labelvalues'] = traingroup['labelvalues'].round()\n",
    "traingroup['labelvalues'].value_counts()"
   ]
  },
  {
   "cell_type": "code",
   "execution_count": 276,
   "metadata": {},
   "outputs": [
    {
     "data": {
      "text/plain": [
       "0.0    29\n",
       "1.0    28\n",
       "Name: labelvalues, dtype: int64"
      ]
     },
     "execution_count": 276,
     "metadata": {},
     "output_type": "execute_result"
    }
   ],
   "source": [
    "#group by src_ip\n",
    "testgroup = testdata_num_filt.groupby(['src_ip']).mean()\n",
    "testgroup['labelvalues'] = testgroup['labelvalues'].round()\n",
    "testgroup['labelvalues'].value_counts()"
   ]
  },
  {
   "cell_type": "code",
   "execution_count": 277,
   "metadata": {},
   "outputs": [],
   "source": [
    "traingroup['src_ip'] = traingroup.index\n",
    "traingroup = traingroup.reset_index(drop = True)\n",
    "testgroup['src_ip'] = testgroup.index\n",
    "testgroup = testgroup.reset_index(drop = True)"
   ]
  },
  {
   "cell_type": "code",
   "execution_count": 278,
   "metadata": {
    "scrolled": true
   },
   "outputs": [
    {
     "name": "stdout",
     "output_type": "stream",
     "text": [
      "              precision    recall  f1-score   support\n",
      "\n",
      "         0.0     1.0000    0.7931    0.8846        29\n",
      "         1.0     0.8235    1.0000    0.9032        28\n",
      "\n",
      "    accuracy                         0.8947        57\n",
      "   macro avg     0.9118    0.8966    0.8939        57\n",
      "weighted avg     0.9133    0.8947    0.8938        57\n",
      "\n"
     ]
    },
    {
     "name": "stderr",
     "output_type": "stream",
     "text": [
      "C:\\Users\\diego\\Anaconda3\\lib\\site-packages\\sklearn\\utils\\validation.py:760: DataConversionWarning: A column-vector y was passed when a 1d array was expected. Please change the shape of y to (n_samples, ), for example using ravel().\n",
      "  y = column_or_1d(y, warn=True)\n"
     ]
    }
   ],
   "source": [
    "Xtrain2 = traingroup.drop(['labelvalues','src_ip'],1)\n",
    "ytrain2 = traingroup[['labelvalues']]\n",
    "Xtest2 = testgroup.drop(['labelvalues','src_ip'],1)\n",
    "ytest2 = testgroup[['labelvalues']]\n",
    "sc = StandardScaler()\n",
    "sc.fit(Xtrain2)\n",
    "Xtrain2 = pd.DataFrame(sc.transform(Xtrain2),columns=Xtrain2.columns,index=Xtrain2.index)\n",
    "Xtest2 = pd.DataFrame(sc.transform(Xtest2),columns=Xtest2.columns,index=Xtest2.index)\n",
    "c = LogisticRegression(random_state = 0, solver = 'liblinear').fit(Xtrain2, ytrain2)\n",
    "ypred2 = c.predict(Xtest2)\n",
    "#accuracy went up by 10 points\n",
    "print(metrics.classification_report(ytest2, ypred2, digits=4))"
   ]
  },
  {
   "cell_type": "markdown",
   "metadata": {},
   "source": [
    "Confirm that 147.101.94.182 is attack after group by"
   ]
  },
  {
   "cell_type": "code",
   "execution_count": 279,
   "metadata": {
    "scrolled": true
   },
   "outputs": [
    {
     "data": {
      "text/html": [
       "<div>\n",
       "<style scoped>\n",
       "    .dataframe tbody tr th:only-of-type {\n",
       "        vertical-align: middle;\n",
       "    }\n",
       "\n",
       "    .dataframe tbody tr th {\n",
       "        vertical-align: top;\n",
       "    }\n",
       "\n",
       "    .dataframe thead th {\n",
       "        text-align: right;\n",
       "    }\n",
       "</style>\n",
       "<table border=\"1\" class=\"dataframe\">\n",
       "  <thead>\n",
       "    <tr style=\"text-align: right;\">\n",
       "      <th></th>\n",
       "      <th>src_ip</th>\n",
       "      <th>labelvalues</th>\n",
       "      <th>predictedlabels</th>\n",
       "    </tr>\n",
       "  </thead>\n",
       "  <tbody>\n",
       "    <tr>\n",
       "      <th>0</th>\n",
       "      <td>122.226.12.150</td>\n",
       "      <td>0.0</td>\n",
       "      <td>1.0</td>\n",
       "    </tr>\n",
       "    <tr>\n",
       "      <th>1</th>\n",
       "      <td>147.101.94.182</td>\n",
       "      <td>1.0</td>\n",
       "      <td>1.0</td>\n",
       "    </tr>\n",
       "    <tr>\n",
       "      <th>2</th>\n",
       "      <td>147.113.94.198</td>\n",
       "      <td>1.0</td>\n",
       "      <td>1.0</td>\n",
       "    </tr>\n",
       "    <tr>\n",
       "      <th>3</th>\n",
       "      <td>147.114.98.192</td>\n",
       "      <td>1.0</td>\n",
       "      <td>1.0</td>\n",
       "    </tr>\n",
       "    <tr>\n",
       "      <th>4</th>\n",
       "      <td>147.122.97.192</td>\n",
       "      <td>1.0</td>\n",
       "      <td>1.0</td>\n",
       "    </tr>\n",
       "    <tr>\n",
       "      <th>5</th>\n",
       "      <td>147.130.96.195</td>\n",
       "      <td>1.0</td>\n",
       "      <td>1.0</td>\n",
       "    </tr>\n",
       "    <tr>\n",
       "      <th>6</th>\n",
       "      <td>147.143.92.183</td>\n",
       "      <td>1.0</td>\n",
       "      <td>1.0</td>\n",
       "    </tr>\n",
       "    <tr>\n",
       "      <th>7</th>\n",
       "      <td>147.148.92.184</td>\n",
       "      <td>1.0</td>\n",
       "      <td>1.0</td>\n",
       "    </tr>\n",
       "    <tr>\n",
       "      <th>8</th>\n",
       "      <td>147.153.100.188</td>\n",
       "      <td>1.0</td>\n",
       "      <td>1.0</td>\n",
       "    </tr>\n",
       "    <tr>\n",
       "      <th>9</th>\n",
       "      <td>147.153.92.185</td>\n",
       "      <td>1.0</td>\n",
       "      <td>1.0</td>\n",
       "    </tr>\n",
       "    <tr>\n",
       "      <th>10</th>\n",
       "      <td>147.162.101.187</td>\n",
       "      <td>1.0</td>\n",
       "      <td>1.0</td>\n",
       "    </tr>\n",
       "    <tr>\n",
       "      <th>11</th>\n",
       "      <td>147.166.98.177</td>\n",
       "      <td>1.0</td>\n",
       "      <td>1.0</td>\n",
       "    </tr>\n",
       "    <tr>\n",
       "      <th>12</th>\n",
       "      <td>147.17.92.196</td>\n",
       "      <td>1.0</td>\n",
       "      <td>1.0</td>\n",
       "    </tr>\n",
       "    <tr>\n",
       "      <th>13</th>\n",
       "      <td>147.187.100.175</td>\n",
       "      <td>1.0</td>\n",
       "      <td>1.0</td>\n",
       "    </tr>\n",
       "    <tr>\n",
       "      <th>14</th>\n",
       "      <td>147.195.94.181</td>\n",
       "      <td>1.0</td>\n",
       "      <td>1.0</td>\n",
       "    </tr>\n",
       "    <tr>\n",
       "      <th>15</th>\n",
       "      <td>147.195.97.196</td>\n",
       "      <td>1.0</td>\n",
       "      <td>1.0</td>\n",
       "    </tr>\n",
       "    <tr>\n",
       "      <th>16</th>\n",
       "      <td>147.202.93.200</td>\n",
       "      <td>1.0</td>\n",
       "      <td>1.0</td>\n",
       "    </tr>\n",
       "    <tr>\n",
       "      <th>17</th>\n",
       "      <td>147.219.97.195</td>\n",
       "      <td>1.0</td>\n",
       "      <td>1.0</td>\n",
       "    </tr>\n",
       "    <tr>\n",
       "      <th>18</th>\n",
       "      <td>147.231.100.191</td>\n",
       "      <td>1.0</td>\n",
       "      <td>1.0</td>\n",
       "    </tr>\n",
       "    <tr>\n",
       "      <th>19</th>\n",
       "      <td>147.32.3.51</td>\n",
       "      <td>0.0</td>\n",
       "      <td>1.0</td>\n",
       "    </tr>\n",
       "    <tr>\n",
       "      <th>20</th>\n",
       "      <td>147.32.80.7</td>\n",
       "      <td>0.0</td>\n",
       "      <td>0.0</td>\n",
       "    </tr>\n",
       "    <tr>\n",
       "      <th>21</th>\n",
       "      <td>147.32.84.164</td>\n",
       "      <td>0.0</td>\n",
       "      <td>0.0</td>\n",
       "    </tr>\n",
       "    <tr>\n",
       "      <th>22</th>\n",
       "      <td>147.32.84.165</td>\n",
       "      <td>1.0</td>\n",
       "      <td>1.0</td>\n",
       "    </tr>\n",
       "    <tr>\n",
       "      <th>23</th>\n",
       "      <td>147.32.84.166</td>\n",
       "      <td>0.0</td>\n",
       "      <td>0.0</td>\n",
       "    </tr>\n",
       "    <tr>\n",
       "      <th>24</th>\n",
       "      <td>147.32.84.204</td>\n",
       "      <td>1.0</td>\n",
       "      <td>1.0</td>\n",
       "    </tr>\n",
       "    <tr>\n",
       "      <th>25</th>\n",
       "      <td>147.32.84.207</td>\n",
       "      <td>1.0</td>\n",
       "      <td>1.0</td>\n",
       "    </tr>\n",
       "    <tr>\n",
       "      <th>26</th>\n",
       "      <td>147.32.84.208</td>\n",
       "      <td>1.0</td>\n",
       "      <td>1.0</td>\n",
       "    </tr>\n",
       "    <tr>\n",
       "      <th>27</th>\n",
       "      <td>147.32.84.209</td>\n",
       "      <td>1.0</td>\n",
       "      <td>1.0</td>\n",
       "    </tr>\n",
       "    <tr>\n",
       "      <th>28</th>\n",
       "      <td>147.32.84.215</td>\n",
       "      <td>0.0</td>\n",
       "      <td>1.0</td>\n",
       "    </tr>\n",
       "    <tr>\n",
       "      <th>29</th>\n",
       "      <td>147.32.85.113</td>\n",
       "      <td>0.0</td>\n",
       "      <td>0.0</td>\n",
       "    </tr>\n",
       "    <tr>\n",
       "      <th>30</th>\n",
       "      <td>147.32.85.114</td>\n",
       "      <td>0.0</td>\n",
       "      <td>0.0</td>\n",
       "    </tr>\n",
       "    <tr>\n",
       "      <th>31</th>\n",
       "      <td>147.32.85.2</td>\n",
       "      <td>0.0</td>\n",
       "      <td>0.0</td>\n",
       "    </tr>\n",
       "    <tr>\n",
       "      <th>32</th>\n",
       "      <td>147.32.85.84</td>\n",
       "      <td>0.0</td>\n",
       "      <td>1.0</td>\n",
       "    </tr>\n",
       "    <tr>\n",
       "      <th>33</th>\n",
       "      <td>147.32.85.96</td>\n",
       "      <td>0.0</td>\n",
       "      <td>0.0</td>\n",
       "    </tr>\n",
       "    <tr>\n",
       "      <th>34</th>\n",
       "      <td>147.32.86.110</td>\n",
       "      <td>0.0</td>\n",
       "      <td>0.0</td>\n",
       "    </tr>\n",
       "    <tr>\n",
       "      <th>35</th>\n",
       "      <td>147.32.86.114</td>\n",
       "      <td>0.0</td>\n",
       "      <td>0.0</td>\n",
       "    </tr>\n",
       "    <tr>\n",
       "      <th>36</th>\n",
       "      <td>147.32.86.15</td>\n",
       "      <td>0.0</td>\n",
       "      <td>0.0</td>\n",
       "    </tr>\n",
       "    <tr>\n",
       "      <th>37</th>\n",
       "      <td>147.32.86.164</td>\n",
       "      <td>0.0</td>\n",
       "      <td>0.0</td>\n",
       "    </tr>\n",
       "    <tr>\n",
       "      <th>38</th>\n",
       "      <td>147.32.86.166</td>\n",
       "      <td>0.0</td>\n",
       "      <td>0.0</td>\n",
       "    </tr>\n",
       "    <tr>\n",
       "      <th>39</th>\n",
       "      <td>147.32.86.168</td>\n",
       "      <td>0.0</td>\n",
       "      <td>0.0</td>\n",
       "    </tr>\n",
       "    <tr>\n",
       "      <th>40</th>\n",
       "      <td>147.32.86.17</td>\n",
       "      <td>0.0</td>\n",
       "      <td>0.0</td>\n",
       "    </tr>\n",
       "    <tr>\n",
       "      <th>41</th>\n",
       "      <td>147.32.86.172</td>\n",
       "      <td>0.0</td>\n",
       "      <td>0.0</td>\n",
       "    </tr>\n",
       "    <tr>\n",
       "      <th>42</th>\n",
       "      <td>147.32.86.195</td>\n",
       "      <td>0.0</td>\n",
       "      <td>0.0</td>\n",
       "    </tr>\n",
       "    <tr>\n",
       "      <th>43</th>\n",
       "      <td>147.32.86.208</td>\n",
       "      <td>0.0</td>\n",
       "      <td>0.0</td>\n",
       "    </tr>\n",
       "    <tr>\n",
       "      <th>44</th>\n",
       "      <td>147.32.86.44</td>\n",
       "      <td>0.0</td>\n",
       "      <td>0.0</td>\n",
       "    </tr>\n",
       "    <tr>\n",
       "      <th>45</th>\n",
       "      <td>147.32.86.6</td>\n",
       "      <td>0.0</td>\n",
       "      <td>0.0</td>\n",
       "    </tr>\n",
       "    <tr>\n",
       "      <th>46</th>\n",
       "      <td>147.32.86.89</td>\n",
       "      <td>0.0</td>\n",
       "      <td>0.0</td>\n",
       "    </tr>\n",
       "    <tr>\n",
       "      <th>47</th>\n",
       "      <td>147.32.86.96</td>\n",
       "      <td>0.0</td>\n",
       "      <td>0.0</td>\n",
       "    </tr>\n",
       "    <tr>\n",
       "      <th>48</th>\n",
       "      <td>147.32.87.7</td>\n",
       "      <td>0.0</td>\n",
       "      <td>1.0</td>\n",
       "    </tr>\n",
       "    <tr>\n",
       "      <th>49</th>\n",
       "      <td>147.49.95.181</td>\n",
       "      <td>1.0</td>\n",
       "      <td>1.0</td>\n",
       "    </tr>\n",
       "    <tr>\n",
       "      <th>50</th>\n",
       "      <td>147.66.97.191</td>\n",
       "      <td>1.0</td>\n",
       "      <td>1.0</td>\n",
       "    </tr>\n",
       "    <tr>\n",
       "      <th>51</th>\n",
       "      <td>147.86.100.176</td>\n",
       "      <td>1.0</td>\n",
       "      <td>1.0</td>\n",
       "    </tr>\n",
       "    <tr>\n",
       "      <th>52</th>\n",
       "      <td>147.86.92.200</td>\n",
       "      <td>1.0</td>\n",
       "      <td>1.0</td>\n",
       "    </tr>\n",
       "    <tr>\n",
       "      <th>53</th>\n",
       "      <td>147.96.101.191</td>\n",
       "      <td>1.0</td>\n",
       "      <td>1.0</td>\n",
       "    </tr>\n",
       "    <tr>\n",
       "      <th>54</th>\n",
       "      <td>65.49.11.19</td>\n",
       "      <td>0.0</td>\n",
       "      <td>1.0</td>\n",
       "    </tr>\n",
       "    <tr>\n",
       "      <th>55</th>\n",
       "      <td>67.195.111.228</td>\n",
       "      <td>0.0</td>\n",
       "      <td>0.0</td>\n",
       "    </tr>\n",
       "    <tr>\n",
       "      <th>56</th>\n",
       "      <td>90.183.39.17</td>\n",
       "      <td>0.0</td>\n",
       "      <td>0.0</td>\n",
       "    </tr>\n",
       "  </tbody>\n",
       "</table>\n",
       "</div>"
      ],
      "text/plain": [
       "             src_ip  labelvalues  predictedlabels\n",
       "0    122.226.12.150          0.0              1.0\n",
       "1    147.101.94.182          1.0              1.0\n",
       "2    147.113.94.198          1.0              1.0\n",
       "3    147.114.98.192          1.0              1.0\n",
       "4    147.122.97.192          1.0              1.0\n",
       "5    147.130.96.195          1.0              1.0\n",
       "6    147.143.92.183          1.0              1.0\n",
       "7    147.148.92.184          1.0              1.0\n",
       "8   147.153.100.188          1.0              1.0\n",
       "9    147.153.92.185          1.0              1.0\n",
       "10  147.162.101.187          1.0              1.0\n",
       "11   147.166.98.177          1.0              1.0\n",
       "12    147.17.92.196          1.0              1.0\n",
       "13  147.187.100.175          1.0              1.0\n",
       "14   147.195.94.181          1.0              1.0\n",
       "15   147.195.97.196          1.0              1.0\n",
       "16   147.202.93.200          1.0              1.0\n",
       "17   147.219.97.195          1.0              1.0\n",
       "18  147.231.100.191          1.0              1.0\n",
       "19      147.32.3.51          0.0              1.0\n",
       "20      147.32.80.7          0.0              0.0\n",
       "21    147.32.84.164          0.0              0.0\n",
       "22    147.32.84.165          1.0              1.0\n",
       "23    147.32.84.166          0.0              0.0\n",
       "24    147.32.84.204          1.0              1.0\n",
       "25    147.32.84.207          1.0              1.0\n",
       "26    147.32.84.208          1.0              1.0\n",
       "27    147.32.84.209          1.0              1.0\n",
       "28    147.32.84.215          0.0              1.0\n",
       "29    147.32.85.113          0.0              0.0\n",
       "30    147.32.85.114          0.0              0.0\n",
       "31      147.32.85.2          0.0              0.0\n",
       "32     147.32.85.84          0.0              1.0\n",
       "33     147.32.85.96          0.0              0.0\n",
       "34    147.32.86.110          0.0              0.0\n",
       "35    147.32.86.114          0.0              0.0\n",
       "36     147.32.86.15          0.0              0.0\n",
       "37    147.32.86.164          0.0              0.0\n",
       "38    147.32.86.166          0.0              0.0\n",
       "39    147.32.86.168          0.0              0.0\n",
       "40     147.32.86.17          0.0              0.0\n",
       "41    147.32.86.172          0.0              0.0\n",
       "42    147.32.86.195          0.0              0.0\n",
       "43    147.32.86.208          0.0              0.0\n",
       "44     147.32.86.44          0.0              0.0\n",
       "45      147.32.86.6          0.0              0.0\n",
       "46     147.32.86.89          0.0              0.0\n",
       "47     147.32.86.96          0.0              0.0\n",
       "48      147.32.87.7          0.0              1.0\n",
       "49    147.49.95.181          1.0              1.0\n",
       "50    147.66.97.191          1.0              1.0\n",
       "51   147.86.100.176          1.0              1.0\n",
       "52    147.86.92.200          1.0              1.0\n",
       "53   147.96.101.191          1.0              1.0\n",
       "54      65.49.11.19          0.0              1.0\n",
       "55   67.195.111.228          0.0              0.0\n",
       "56     90.183.39.17          0.0              0.0"
      ]
     },
     "execution_count": 279,
     "metadata": {},
     "output_type": "execute_result"
    }
   ],
   "source": [
    "#search for IP to attack\n",
    "predictedlabels = pd.DataFrame(ypred2,columns=['predictedlabels'])\n",
    "comparison = pd.concat([testgroup[['src_ip','labelvalues']].copy(),predictedlabels],1)\n",
    "comparison"
   ]
  },
  {
   "cell_type": "code",
   "execution_count": 280,
   "metadata": {},
   "outputs": [],
   "source": [
    "comparison.to_csv('task2_botnetIPs_export.csv',index=False)"
   ]
  }
 ],
 "metadata": {
  "kernelspec": {
   "display_name": "Python 3",
   "language": "python",
   "name": "python3"
  },
  "language_info": {
   "codemirror_mode": {
    "name": "ipython",
    "version": 3
   },
   "file_extension": ".py",
   "mimetype": "text/x-python",
   "name": "python",
   "nbconvert_exporter": "python",
   "pygments_lexer": "ipython3",
   "version": "3.7.3"
  }
 },
 "nbformat": 4,
 "nbformat_minor": 4
}
